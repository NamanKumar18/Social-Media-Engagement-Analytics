{
 "cells": [
  {
   "cell_type": "code",
   "execution_count": 2,
   "id": "5e676cc0",
   "metadata": {},
   "outputs": [
    {
     "name": "stdout",
     "output_type": "stream",
     "text": [
      "Requirement already satisfied: instaloader in c:\\users\\nemokumar\\anaconda3\\lib\\site-packages (4.9.6)\n",
      "Requirement already satisfied: requests>=2.4 in c:\\users\\nemokumar\\anaconda3\\lib\\site-packages (from instaloader) (2.26.0)\n",
      "Requirement already satisfied: idna<4,>=2.5 in c:\\users\\nemokumar\\anaconda3\\lib\\site-packages (from requests>=2.4->instaloader) (3.2)\n",
      "Requirement already satisfied: charset-normalizer~=2.0.0 in c:\\users\\nemokumar\\anaconda3\\lib\\site-packages (from requests>=2.4->instaloader) (2.0.4)\n",
      "Requirement already satisfied: certifi>=2017.4.17 in c:\\users\\nemokumar\\anaconda3\\lib\\site-packages (from requests>=2.4->instaloader) (2022.12.7)\n",
      "Requirement already satisfied: urllib3<1.27,>=1.21.1 in c:\\users\\nemokumar\\anaconda3\\lib\\site-packages (from requests>=2.4->instaloader) (1.26.7)\n"
     ]
    }
   ],
   "source": [
    "# !pip install instaloader"
   ]
  },
  {
   "cell_type": "code",
   "execution_count": null,
   "id": "2a2b9c34",
   "metadata": {},
   "outputs": [],
   "source": [
    "orpyxinc, sirencare"
   ]
  },
  {
   "cell_type": "code",
   "execution_count": 3,
   "id": "d3200e79",
   "metadata": {},
   "outputs": [
    {
     "name": "stderr",
     "output_type": "stream",
     "text": [
      "C:\\Users\\NemoKumar\\anaconda3\\lib\\site-packages\\win_unicode_console\\__init__.py:31: RuntimeWarning: sys.stdin.encoding == 'cp1252', whereas sys.stdout.encoding == 'UTF-8', readline hook consumer may assume they are the same\n",
      "  readline_hook.enable(use_pyreadline=use_pyreadline)\n"
     ]
    },
    {
     "name": "stdout",
     "output_type": "stream",
     "text": [
      "['desertfoot2022', 't1d', 'georgiafootcare', 'plantarfasciitis', 'veteransassociation', 'sirensocks', 'skills', 'sirenmove', 'telemedicine', 'healthcarehero', 'healthconference', 'vegas', 'hlth', 'summer', 'sirensquad', 'diabeticfootulver', 'dallas', '4', 'themoreyouknow', 'eastersunday', 'diabetesresearch', 'testimontialtuesday', 'sirennurses', 'speaker', 'certifiedsirenproviders', 'peerreviewed', 'holidaypost', 'provider', 'redwhiteblue', 'woundcare', 'app', 'ceo', 'squidgame', 'dalgonacandy', 'pride', 'nurse', 'rpm', 'dfus', 'aging', 'lightscameraaction', 'wisdom', 'awareness', 'conference', 'diabetichealth', 'risks', 'sirencare', 'diabetes', 'learning', 'phoenix', 'msk', 'smartfabrics', 'happynewyear', 'carecoordination', 'wound', 'resolutions', 'veteran', 'pad', 'nervedamage', 'diabeticfootulcers', 'military', '2', '1012', 'who', 'illinois', 'worlddiabetesday', 'medicare', 'diabeticsocks', 'pcp', 'wisdomwednesday', 'floridafootcare', 'valentine', 'diabetestype2', 'superheroes', 'dpm', 'technologysolutions', 'sirenstories', 'cmo', 'axe', 'holiday', 'illness', 'raffle', 'medtech', 'dfcon19', '2019', 'footpun', 'celebration', 'userstory', 'diabetestype1', 'covid', 'ucsf', 'digitihealth', 'love', 'candy', 'pun', 'crowboot', 'caregivers', 'medicalcost', 'amputations', 'remotemonitoring', 'podiatryjokes', 'amputation', 'limbsalvage', 'california', 'tgif', 'thankaveteran', 'pt', 'vacare', 'medical', 'nursing', 'socks', 'mermaid', 'wearable', 'osteomyelitis', 'circus', 'tipoftheday', 'covid19', 'thefuture', 'sushi', 'cwi19', 'purple', 'pandemic', 'florida', 'georgia', 'diabeticheath', 'medicaldevice', 'saltlakecity', 'toeandflow', 'memorialday2020', 'dpmblog', 'hypertension', 'internationalsymposium', 'publication', 'foot', 'actagainstamputation', 'seniors', 'footulcers', 'statistics', 'continuousglucosemonitoring', 'carnival', 'hlth2022', 'checkyourfeet', 'joke', 'reminder', 'feetcare', 'techcrunch', 'keepsafe', 'arizona', 'teambuilding', 'activitiy', 'cgm', 'type1', 'footfact', 'service', 'startups', 'sirenwarrior', 'lol', 'honor', 'disability', 'hardware', 'txpma', 'jokes', 'canada', 'dfcon', 'healthcare', 'charcotfoot', 'newyear', 'charcot', 'dadjoke', 'diabetesawarenessmonth', 'certifiedprovider', 'certifiedsirenprovider', 'scarecrow', 'podiatrists', 'va', 'telehelath', 'move', 'superhero', 'clinic', 'footcream', 'axethrowing', 'costsavings', 'usa', 'monitoring', 'aerodynamic', 'sock', 'siresocks', '500startups', 'newproduct', 't2d', 'staysafe', 'memorial', 'humor', 'heartattack', 'hero', 'sirenuser', 'diabetesfacts', 'memorialday', 'diabeticneuropathy', 'diabeticfeet', 'ludacris', 'paper', '427', 'ccm', 'holidayhealth', 'apmanational2022', 'diabetest1', 'didyouknow', '500strong', 'patientsfirst', 'justmakesense', 'sirecare', '49', 'remotework', 'mondaymotivation', 'foothealthtip', 'ce', 'trickortreat', 'diabeticfootulcer', 'preventionworks', '40under40', 'idf', 'shipping', 'squad', 'tech', 'wearables', '707', 'harvestmoon', 'ces2018', 'sirenhero', 'productlaunch', 'thankful', 'remotehealth', 'veterans', 'innovation', 'exercise', 'inspirationalquotes', 'healthyfeet', 'podiatrylife', 'footcomplication', 'nurseappreciationday', 'diabetescare', 'chf', 'unitedstates', 'iot', '6', 'dpms', 'rtm', 'type2diabetes', 'nurses', 'spacejokes', 'gardenstage', 'america', 'underthesea', 'wichita', '8in10', 'sawc2021', 'd1d', 'livingwithdiabetes', 'apma19', 'summertips', 'virtualclinic', 'punny', 'prediabetes', 'sirenhub', 'loveislove', 'csp', 'merrychristmas', 'review', '26', 'temperature', 'phx', 'diabetest2', 'diabeticfoot', 'slc', 'lucky', 'type1diabetes', 'footexam', 'utah', '1', 'floridapodiatrist', 'neurofabric', 'diabetic', 'happyholidays', 'vertigo', 'apma', 'happyvalentinesday', 'footcare', 'certification', 'incredible', 'hlthevent', 'poetry', 'proximal', 'holidayeating', 'lasvegas', 'easter', 'podiatrist', 'aarp', 'smartfabric', 'odysseycenter', 'podiatric', 'insurance', 'testimonialtuesday', 'selflove', 'knowledge', 'sacrifice', 'cde', 'demoween', 'stepcount', 'resolution', 'pcm', 'physcialtherapy', 'swimming', 'maryland', 'actagainstamputations', 'aetna', 'diabetesawareness', 'savings', 'studyguide', 'prevention', 'sirenblog', 'wounds', '5', 'science', 'thankyou', 'innovative', 'georgiapodiatrist', 'funny', 'thenational', 'testimonial', 'gif', 'preventioniskey', 'telehealth', 'blog', 'digitalhealth', 'ipma', 'smartextiles', 'veteransday', 'type2', 'podiatry', 'desertfoot', 'thingsthatjustmakesense', 'apmanational2021', 'weekend', 'summerfootcaretips', 'diabeticulcers', 'remotepatientmonitoring', 'dfu', 'daveandbusters', 'therippleeffect', 'neuropathy', 'diabetesinfo', 'orlando', 'fl', 'sirenwarriors', 'ranma', 'health2con', 'valentinesday', 'fooddoctor', 'technology', 'siren', 'patientcare', 'chronicdisease', 'ces2017', 'autonomic', 'health', 'popquiz', 'diabeticwound', 'newblog', 'ca', 'feet', 'footulcer', 'diabetictips', 'sirendiabeticsocks', 'pride2020', 'ulcers', 'orthopedics', 'sirennurse', 'texas', 'rpmnationals', 'halloween', 'biotech', 'temperaturemonitoring', 'footfacts', 'foothealth', 'ada', 'smartsocks', 'warrior', 'deep', 'focal', 'footpunfriday', 'awards', 'cellulitus', 'virtualcare', 'ulcer', 'launch', 'article', 'sirenodysseycenter', 'enjoylife', 'stroke', 'smarttextiles', 'behindthescenes', 'games', 'diabeticfootcare', 'givingthanks', 'olympics', 'actagainstamputetion', 'nerves', 'remotepatientmontoring', 'startup', 'peripheralarterydisease', 'veteranassociation', 'diabetics', 'tpma', '624', 'tradeshowlife', 'teamwork', 'footjokes', 'certified', 'fourleafclover', 'squadgoals', 'providernetwork', 'stpatricksday']\n"
     ]
    }
   ],
   "source": [
    "import instaloader\n",
    "\n",
    "# Create an instance of Instaloader\n",
    "L = instaloader.Instaloader()\n",
    "\n",
    "# Define the Instagram profile to scrape\n",
    "profile = \"sirencare\"\n",
    "\n",
    "# Download profile metadata\n",
    "profile_data = instaloader.Profile.from_username(L.context, profile)\n",
    "\n",
    "# Get a list of all posts\n",
    "posts = profile_data.get_posts()\n",
    "\n",
    "# Loop through all posts and print out the hashtags used\n",
    "hashtags = set()\n",
    "for post in posts:\n",
    "    for hashtag in post.caption_hashtags:\n",
    "        hashtags.add(hashtag)\n",
    "        \n",
    "# Print out the list of hashtags\n",
    "print(list(hashtags))\n"
   ]
  },
  {
   "cell_type": "code",
   "execution_count": 4,
   "id": "c99e3e91",
   "metadata": {},
   "outputs": [
    {
     "name": "stdout",
     "output_type": "stream",
     "text": [
      "['podcasts', 'wuwhs2020', 'brideoffrankenstein', 'pikachu', 'new', 'telemedicine', 'motivation', 'newtechnology', 'undefeeted', 'scienceoutofthelab', 'spin2017', 'summer', 'hashbrowns', 'femalefounder', 'g04', 'careers', 'internationalcongress', 'womenleaders', 'entrepreneurship', 'engineering', 'oneteam', 'woundcare', 'acfas2023', 'rpm', 'bluenovember', 'dfus', 'prevent', 'womenintech', 'dfuprevention', 'calgary', 'stayhome', 'christmas', 'yyccareers', 'diabetes', 'sportsmedicine', 'yycflood', 'technologies', 'wfac', 'helpingalberta', 'entrepreneur', 'footweardesign', 'diabeticfootulcers', 'firstresponders', 'womenentrepreneurs', 'asmvegas', 'womeninstem', 'worlddiabetesday', 'dpm', 'yycfuturehealth', 'cta', 'leadership', 'skeleton', 'sportscience', 'spillthebeans', 'ucalgarybmeignite', 'holiday', 'competition', 'nickfury', 'fipspeakers', 'jeopardy', 'medtech', 'wcb2018', 'orpyx', 'entrepreneurs', 'cocktailtable', 'love', 'team', 'birthdayflashmob', 'birthdaysurprise', 'diversity', 'remotemonitoring', 'franks', 'top40yyc', 'yyctech', 'limbsalvage', 'firesafety', 'fpmasummer', 'fancyfridays', 'company', 'phdlife', 'medical', 'ab', 'mrincredible', 'wearable', 'covid19', 'purple', 'cene', 'canada150', 'dfcon15', 'mhealth', 'madeincanada', 'jwcawards', 'geneva', 'standinhershoes', 'digitaldiabetes', 'research', 'actagainstamputation', 'pressure', 'footulcers', 'fipifp', 'neo', 'healthtech', 'asb2019', 'everydayheroes', 'podiatrycommunity', 'spectre', 'amazing', 'midwestpodconf2023', 'teambuilding', 'holidayseason', 'movethedial', 'wdd19', 'workculture', 'nationalnursesday', 'las', 'canada', 'wednesdaymotivation', 'hiring', 'orpyxerspotlight', 'healthcare', 'medica2013', 'sportsperformance', 'diabetesawarenessmonth', 'educationalsessions', 'scarecrow', 'iso', 'madeinyyc', 'madeinalberta', 'spamcup2015', 'homeofbond', 'momoyyc', 'feeties', 'ipods', 'calgaryawards', 'isdf2019', 'wdd', 'inspectorgadget', 'firewarden', 'measurewhatmatters', 'innovators', 'karaoke', 'diabetesfootcare', 'wid', 'worldpod2019', 'wxn', 'engainnovates', 'innovating', 'biomechanics', 'dragqueens', 'ncfas', 'aweawards', 'apmanational2022', 'sawcspring', 'birthday', 'teamworkmakesthedreamwork', 'stampede', 'apple', 'ihcx2017', 'madeincalgary', 'walk', 'tech', 'wearables', 'happyhalloween', 'sportperformance', 'ios', 'ashketchum', 'innovation', 'loveyyc', 'germany', 'ciwb', 'diabetescare', 'asb2017', 'canstruction', 'thepost2017', 'vendingmachine', 'friday', 'theodoretugboat', 'ahs', 'injuryprevention', 'abtech', 'investcalgary', 'iputthatshitoneverything', 'peripheralneuropathy', 'prediabetes', 'qualitymanagement', 'healthcareworkers', 'gait', 'flashbackfriday', 'acwh2019', 'womeninscience', 'sausages', 'pitchatpalace', 'canadian', 'covid19response', 'holidayparty', 'sports', 'ppe', 'ownthepodium', 'diabeticfoot', 'enga', 'party', 'connectedhealth', 'wearabletech', 'iso13485', 'advamed2013', 'calgarystrong', 'edwardscissorhands', 'phillies', 'diabetic', 'happyholidays', 'isb2019', 'mcconverge', 'apma', 'dyk', 'pancakes', 'footcare', 'wonderwoman', 'captainamerica', 'openhouse', 'kitchen', 'running', 'surrosenserx', 'gaitanalysis', 'nationaldiabetesawarenessmonth', 'sensoryinsoles', 'yeg', 'siliconvalley', 'wxn2018', 'prevention', '48hrsinthehub', 'science', '007', 'frontlineworkers', 'innovative', 'bacon', 'insoles', 'uofc', 'sensoryinsole', 'unicorn', 'footpressure', 'witcanada2019', 'kungfury', '103', 'training', 'bvf2014', 'techlife', 'cedreport', 'w21cinnovation', 'telehealth', 'digitalhealth', 'podiatry', 'foothealthawarenessmonth', 'safetyfirst', 'remotepatientmonitoring', 'womenempowerment', 'yycjobs', 'dfu', 'thepost', 'bts', 'medica2014', 'embraceequity', 'ikea', 'kwarktaart', 'revolutionize', 'widi4h', 'alberta', 'phd', 'womeninbusiness', 'marypoppins', 'libininstitution', 'medicalmasks', 'technology', '919', 'yycawards', 'socialdistancing', 'plantarpressure', 'stampedebreakfast', 'masks', 'fpma2021', 'cdninnovation', 'smartinsoles', 'movethedialstories', 'footulcer', 'hotdog', 'halloween', 'biotech', 'foothealth', 'sportsscience', 'ctacanada', 'orpyxwalkamile', 'yyc', 'inthistogether', 'women', 'iwd2023', 'humanperformance', 'flowers', 'elvis', 'behindthescenes', 'diabeticulcerprevention', 'diabeticfootcare', 'desertfoot2017', 'isbasb2019', 'fpma', 'mimi', 'webinar', 'matrix', 'startup', 'tpma21', 'sugarskull', 'exercisescience', 'matchymatchy', '443', 'teamwork', 'repost', 'inspiring', '75', 'dfcon2014', 'bigbaby']\n"
     ]
    }
   ],
   "source": [
    "import instaloader\n",
    "\n",
    "# Create an instance of Instaloader\n",
    "L = instaloader.Instaloader()\n",
    "\n",
    "# Define the Instagram profile to scrape\n",
    "profile = \"orpyxinc\"\n",
    "\n",
    "# Download profile metadata\n",
    "profile_data = instaloader.Profile.from_username(L.context, profile)\n",
    "\n",
    "# Get a list of all posts\n",
    "posts = profile_data.get_posts()\n",
    "\n",
    "# Loop through all posts and print out the hashtags used\n",
    "hashtags = set()\n",
    "for post in posts:\n",
    "    for hashtag in post.caption_hashtags:\n",
    "        hashtags.add(hashtag)\n",
    "        \n",
    "# Print out the list of hashtags\n",
    "print(list(hashtags))\n"
   ]
  }
 ],
 "metadata": {
  "kernelspec": {
   "display_name": "Python 3 (ipykernel)",
   "language": "python",
   "name": "python3"
  },
  "language_info": {
   "codemirror_mode": {
    "name": "ipython",
    "version": 3
   },
   "file_extension": ".py",
   "mimetype": "text/x-python",
   "name": "python",
   "nbconvert_exporter": "python",
   "pygments_lexer": "ipython3",
   "version": "3.9.7"
  }
 },
 "nbformat": 4,
 "nbformat_minor": 5
}
